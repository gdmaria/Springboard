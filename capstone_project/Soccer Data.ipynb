{
 "cells": [
  {
   "cell_type": "markdown",
   "metadata": {},
   "source": [
    "Loading teams from CL_teams_full_list.json"
   ]
  },
  {
   "cell_type": "code",
   "execution_count": 50,
   "metadata": {},
   "outputs": [
    {
     "name": "stdout",
     "output_type": "stream",
     "text": [
      "   id                 name   shortName  tla           city  country\n",
      "0   2  TSG 1899 Hoffenheim  Hoffenheim  TSG    Zuzenhausen  Germany\n",
      "1   4    Borussia Dortmund    Dortmund  BVB       Dortmund  Germany\n",
      "2   5    FC Bayern München    Bayern M  FCB        München  Germany\n",
      "3   6        FC Schalke 04     Schalke  S04  Gelsenkirchen  Germany\n",
      "4  64         Liverpool FC   Liverpool  LIV      Liverpool  England\n"
     ]
    }
   ],
   "source": [
    "import pandas as pd\n",
    "import json\n",
    "filename = 'CL_teams_full_list.json'\n",
    "data = json.load(open(filename))\n",
    "teams_df = pd.DataFrame(data)\n",
    "print(teams_df.head())"
   ]
  },
  {
   "cell_type": "markdown",
   "metadata": {},
   "source": [
    "Loading matches from CL_matches_full_list.json"
   ]
  },
  {
   "cell_type": "code",
   "execution_count": 51,
   "metadata": {},
   "outputs": [
    {
     "name": "stdout",
     "output_type": "stream",
     "text": [
      "       id                  date  homeTeam_id  awayTeam_id  ft_h  ft_a  ht_h  \\\n",
      "0  238916  2018-06-26T15:00:00Z         1879         7282     0     2     0   \n",
      "1  238917  2018-06-26T19:00:00Z         1902         7281     0     2     0   \n",
      "2  238918  2018-06-29T18:30:00Z         7281         7282     1     4     0   \n",
      "3  238919  2018-07-10T15:30:00Z         7286         1880     2     1     1   \n",
      "4  238941  2018-07-10T15:30:00Z         5100         1891     1     4     0   \n",
      "\n",
      "   ht_a  et_h  et_a  p_h  p_a  \n",
      "0     0     0     2    0    0  \n",
      "1     1     0     0    0    0  \n",
      "2     1     0     3    0    0  \n",
      "3     1     0     0    0    0  \n",
      "4     2     0     0    0    0  \n"
     ]
    }
   ],
   "source": [
    "filename = 'CL_matches_full_list.json'\n",
    "data = json.load(open(filename))\n",
    "matches_df = pd.DataFrame(data)\n",
    "matches_df_short = pd.DataFrame()\n",
    "matches_df_short[['id', 'date', 'homeTeam_id', 'awayTeam_id',\n",
    "                  'ft_h', 'ft_a', 'ht_h', 'ht_a', 'et_h', 'et_a', 'p_h', 'p_a']] = \\\n",
    "        matches_df[['id', 'utcDate', 'homeTeam_id', 'awayTeam_id',\n",
    "                    'fullTime_homeTeam', 'fullTime_awayTeam', 'halfTime_homeTeam', 'halfTime_awayTeam',\n",
    "                    'extraTime_homeTeam', 'extraTime_awayTeam', 'penalties_homeTeam', 'penalties_awayTeam']]\n",
    "print(matches_df_short.head())"
   ]
  },
  {
   "cell_type": "markdown",
   "metadata": {},
   "source": [
    "Data is homogenous in each column since it was successfully loaded into Python Pandas Series which are homogeneous objects by definition."
   ]
  },
  {
   "cell_type": "markdown",
   "metadata": {},
   "source": [
    "Basic data validation includes the following checks:\n",
    "* All homeTeam_id and awayTeam_id from the matches dataset are present in the teams dataset\n",
    "* Values in date column in the matches dataset are valid dates"
   ]
  },
  {
   "cell_type": "code",
   "execution_count": 52,
   "metadata": {},
   "outputs": [
    {
     "name": "stdout",
     "output_type": "stream",
     "text": [
      "id                    591\n",
      "utcDate               591\n",
      "season_id             591\n",
      "status                591\n",
      "stage                 591\n",
      "group                 343\n",
      "homeTeam_id           591\n",
      "awayTeam_id           591\n",
      "fullTime_homeTeam     591\n",
      "fullTime_awayTeam     591\n",
      "halfTime_homeTeam     591\n",
      "halfTime_awayTeam     591\n",
      "extraTime_homeTeam    591\n",
      "extraTime_awayTeam    591\n",
      "penalties_homeTeam    591\n",
      "penalties_awayTeam    591\n",
      "dtype: int64 \n",
      "\n",
      "True    591\n",
      "Name: homeTeam_id, dtype: int64 \n",
      "\n",
      "True    591\n",
      "Name: awayTeam_id, dtype: int64\n"
     ]
    }
   ],
   "source": [
    "homeTeam_matches_df = matches_df['homeTeam_id']\n",
    "check_homeTeam_df = homeTeam_matches_df.isin(teams_df['id'])\n",
    "awayTeam_matches_df = matches_df['awayTeam_id']\n",
    "check_awayTeam_df = awayTeam_matches_df.isin(teams_df['id'])\n",
    "\n",
    "print(matches_df.count(), '\\n')\n",
    "print(check_homeTeam_df.value_counts(), '\\n')\n",
    "print(check_awayTeam_df.value_counts())"
   ]
  },
  {
   "cell_type": "code",
   "execution_count": 53,
   "metadata": {},
   "outputs": [
    {
     "data": {
      "text/plain": [
       "0      2018-06-26\n",
       "1      2018-06-26\n",
       "2      2018-06-29\n",
       "3      2018-07-10\n",
       "4      2018-07-10\n",
       "          ...    \n",
       "586    2021-03-10\n",
       "587    2021-03-16\n",
       "588    2021-03-16\n",
       "589    2021-03-17\n",
       "590    2021-03-17\n",
       "Name: date, Length: 591, dtype: object"
      ]
     },
     "execution_count": 53,
     "metadata": {},
     "output_type": "execute_result"
    }
   ],
   "source": [
    "matches_df_short['date'].apply(pd.to_datetime).dt.date"
   ]
  },
  {
   "cell_type": "markdown",
   "metadata": {},
   "source": [
    "mongo db is candidate for a storage solution since it stores data in JSON-like documents and is build for optimal performance.\n"
   ]
  }
 ],
 "metadata": {
  "kernelspec": {
   "display_name": "Python 3",
   "language": "python",
   "name": "python3"
  },
  "language_info": {
   "codemirror_mode": {
    "name": "ipython",
    "version": 3
   },
   "file_extension": ".py",
   "mimetype": "text/x-python",
   "name": "python",
   "nbconvert_exporter": "python",
   "pygments_lexer": "ipython3",
   "version": "3.8.0"
  }
 },
 "nbformat": 4,
 "nbformat_minor": 4
}
